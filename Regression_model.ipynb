{
 "cells": [
  {
   "cell_type": "code",
   "execution_count": 6,
   "id": "7885f966-4eb3-4733-a9f2-336b0e926a31",
   "metadata": {},
   "outputs": [],
   "source": [
    "import tensorflow as tf\n",
    "from sklearn.datasets import fetch_california_housing\n",
    "from sklearn.model_selection import train_test_split\n",
    "from sklearn.preprocessing import StandardScaler\n",
    "from tensorflow.keras import Input\n",
    "import numpy as np"
   ]
  },
  {
   "cell_type": "code",
   "execution_count": 3,
   "id": "1b6699fb-b995-4dec-97a9-df1c19b795a6",
   "metadata": {},
   "outputs": [],
   "source": [
    "#load data\n",
    "data = fetch_california_housing()\n",
    "X = data.data\n",
    "y = data.target\n",
    "\n",
    "#split train/test\n",
    "X_train, X_test, Y_train, Y_test = train_test_split(X, y, test_size=0.2, random_state=42)"
   ]
  },
  {
   "cell_type": "code",
   "execution_count": 4,
   "id": "9ad04c25-3012-4f82-b508-626659010fbd",
   "metadata": {},
   "outputs": [],
   "source": [
    "scaler = StandardScaler()\n",
    "X_train = scaler.fit_transform(X_train)\n",
    "X_test = scaler.transform(X_test)"
   ]
  },
  {
   "cell_type": "code",
   "execution_count": 11,
   "id": "ea8fa815-bea9-411e-8c98-99264c556b5b",
   "metadata": {},
   "outputs": [],
   "source": [
    "model = tf.keras.Sequential([\n",
    "    Input(shape=(8,)),\n",
    "    tf.keras.layers.Dense(64, activation='relu'),\n",
    "    tf.keras.layers.Dense(64, activation='relu'),\n",
    "    tf.keras.layers.Dense(1)\n",
    "])"
   ]
  },
  {
   "cell_type": "code",
   "execution_count": 12,
   "id": "3d07ec12-d3f7-4449-9b76-6b7833b04697",
   "metadata": {},
   "outputs": [],
   "source": [
    "model.compile(\n",
    "    optimizer='adam',\n",
    "    loss='mse',\n",
    "    metrics=['mae']\n",
    ")"
   ]
  },
  {
   "cell_type": "code",
   "execution_count": 16,
   "id": "b511c7b0-fce1-4bf6-a4a4-9c8662cf9332",
   "metadata": {},
   "outputs": [
    {
     "name": "stdout",
     "output_type": "stream",
     "text": [
      "Epoch 1/30\n",
      "\u001b[1m413/413\u001b[0m \u001b[32m━━━━━━━━━━━━━━━━━━━━\u001b[0m\u001b[37m\u001b[0m \u001b[1m1s\u001b[0m 545us/step - loss: 1.5120 - mae: 0.8446 - val_loss: 0.5017 - val_mae: 0.4972\n",
      "Epoch 2/30\n",
      "\u001b[1m413/413\u001b[0m \u001b[32m━━━━━━━━━━━━━━━━━━━━\u001b[0m\u001b[37m\u001b[0m \u001b[1m0s\u001b[0m 436us/step - loss: 0.4478 - mae: 0.4683 - val_loss: 0.4090 - val_mae: 0.4669\n",
      "Epoch 3/30\n",
      "\u001b[1m413/413\u001b[0m \u001b[32m━━━━━━━━━━━━━━━━━━━━\u001b[0m\u001b[37m\u001b[0m \u001b[1m0s\u001b[0m 434us/step - loss: 0.3743 - mae: 0.4347 - val_loss: 0.4133 - val_mae: 0.4502\n",
      "Epoch 4/30\n",
      "\u001b[1m413/413\u001b[0m \u001b[32m━━━━━━━━━━━━━━━━━━━━\u001b[0m\u001b[37m\u001b[0m \u001b[1m0s\u001b[0m 449us/step - loss: 0.3794 - mae: 0.4302 - val_loss: 0.3811 - val_mae: 0.4390\n",
      "Epoch 5/30\n",
      "\u001b[1m413/413\u001b[0m \u001b[32m━━━━━━━━━━━━━━━━━━━━\u001b[0m\u001b[37m\u001b[0m \u001b[1m0s\u001b[0m 441us/step - loss: 0.3438 - mae: 0.4161 - val_loss: 0.3719 - val_mae: 0.4193\n",
      "Epoch 6/30\n",
      "\u001b[1m413/413\u001b[0m \u001b[32m━━━━━━━━━━━━━━━━━━━━\u001b[0m\u001b[37m\u001b[0m \u001b[1m0s\u001b[0m 431us/step - loss: 0.3316 - mae: 0.4065 - val_loss: 0.3530 - val_mae: 0.4144\n",
      "Epoch 7/30\n",
      "\u001b[1m413/413\u001b[0m \u001b[32m━━━━━━━━━━━━━━━━━━━━\u001b[0m\u001b[37m\u001b[0m \u001b[1m0s\u001b[0m 434us/step - loss: 0.3253 - mae: 0.4036 - val_loss: 0.4157 - val_mae: 0.4349\n",
      "Epoch 8/30\n",
      "\u001b[1m413/413\u001b[0m \u001b[32m━━━━━━━━━━━━━━━━━━━━\u001b[0m\u001b[37m\u001b[0m \u001b[1m0s\u001b[0m 439us/step - loss: 0.3504 - mae: 0.4072 - val_loss: 0.3456 - val_mae: 0.4093\n",
      "Epoch 9/30\n",
      "\u001b[1m413/413\u001b[0m \u001b[32m━━━━━━━━━━━━━━━━━━━━\u001b[0m\u001b[37m\u001b[0m \u001b[1m0s\u001b[0m 437us/step - loss: 0.3118 - mae: 0.3882 - val_loss: 0.3399 - val_mae: 0.4048\n",
      "Epoch 10/30\n",
      "\u001b[1m413/413\u001b[0m \u001b[32m━━━━━━━━━━━━━━━━━━━━\u001b[0m\u001b[37m\u001b[0m \u001b[1m0s\u001b[0m 437us/step - loss: 0.2975 - mae: 0.3817 - val_loss: 0.3281 - val_mae: 0.3945\n",
      "Epoch 11/30\n",
      "\u001b[1m413/413\u001b[0m \u001b[32m━━━━━━━━━━━━━━━━━━━━\u001b[0m\u001b[37m\u001b[0m \u001b[1m0s\u001b[0m 437us/step - loss: 0.3137 - mae: 0.3866 - val_loss: 0.3282 - val_mae: 0.3911\n",
      "Epoch 12/30\n",
      "\u001b[1m413/413\u001b[0m \u001b[32m━━━━━━━━━━━━━━━━━━━━\u001b[0m\u001b[37m\u001b[0m \u001b[1m0s\u001b[0m 479us/step - loss: 0.2958 - mae: 0.3773 - val_loss: 0.3237 - val_mae: 0.3847\n",
      "Epoch 13/30\n",
      "\u001b[1m413/413\u001b[0m \u001b[32m━━━━━━━━━━━━━━━━━━━━\u001b[0m\u001b[37m\u001b[0m \u001b[1m0s\u001b[0m 440us/step - loss: 0.2853 - mae: 0.3734 - val_loss: 0.3310 - val_mae: 0.3860\n",
      "Epoch 14/30\n",
      "\u001b[1m413/413\u001b[0m \u001b[32m━━━━━━━━━━━━━━━━━━━━\u001b[0m\u001b[37m\u001b[0m \u001b[1m0s\u001b[0m 517us/step - loss: 0.3013 - mae: 0.3792 - val_loss: 0.3144 - val_mae: 0.3810\n",
      "Epoch 15/30\n",
      "\u001b[1m413/413\u001b[0m \u001b[32m━━━━━━━━━━━━━━━━━━━━\u001b[0m\u001b[37m\u001b[0m \u001b[1m0s\u001b[0m 447us/step - loss: 0.2820 - mae: 0.3691 - val_loss: 0.3177 - val_mae: 0.3829\n",
      "Epoch 16/30\n",
      "\u001b[1m413/413\u001b[0m \u001b[32m━━━━━━━━━━━━━━━━━━━━\u001b[0m\u001b[37m\u001b[0m \u001b[1m0s\u001b[0m 439us/step - loss: 0.2792 - mae: 0.3656 - val_loss: 0.3199 - val_mae: 0.3857\n",
      "Epoch 17/30\n",
      "\u001b[1m413/413\u001b[0m \u001b[32m━━━━━━━━━━━━━━━━━━━━\u001b[0m\u001b[37m\u001b[0m \u001b[1m0s\u001b[0m 433us/step - loss: 0.2907 - mae: 0.3719 - val_loss: 0.3157 - val_mae: 0.3744\n",
      "Epoch 18/30\n",
      "\u001b[1m413/413\u001b[0m \u001b[32m━━━━━━━━━━━━━━━━━━━━\u001b[0m\u001b[37m\u001b[0m \u001b[1m0s\u001b[0m 433us/step - loss: 0.2823 - mae: 0.3641 - val_loss: 0.3424 - val_mae: 0.4215\n",
      "Epoch 19/30\n",
      "\u001b[1m413/413\u001b[0m \u001b[32m━━━━━━━━━━━━━━━━━━━━\u001b[0m\u001b[37m\u001b[0m \u001b[1m0s\u001b[0m 440us/step - loss: 0.2913 - mae: 0.3732 - val_loss: 0.3232 - val_mae: 0.4048\n",
      "Epoch 20/30\n",
      "\u001b[1m413/413\u001b[0m \u001b[32m━━━━━━━━━━━━━━━━━━━━\u001b[0m\u001b[37m\u001b[0m \u001b[1m0s\u001b[0m 434us/step - loss: 0.2759 - mae: 0.3641 - val_loss: 0.3030 - val_mae: 0.3800\n",
      "Epoch 21/30\n",
      "\u001b[1m413/413\u001b[0m \u001b[32m━━━━━━━━━━━━━━━━━━━━\u001b[0m\u001b[37m\u001b[0m \u001b[1m0s\u001b[0m 438us/step - loss: 0.2691 - mae: 0.3581 - val_loss: 0.3086 - val_mae: 0.3795\n",
      "Epoch 22/30\n",
      "\u001b[1m413/413\u001b[0m \u001b[32m━━━━━━━━━━━━━━━━━━━━\u001b[0m\u001b[37m\u001b[0m \u001b[1m0s\u001b[0m 434us/step - loss: 0.2781 - mae: 0.3627 - val_loss: 0.3079 - val_mae: 0.3862\n",
      "Epoch 23/30\n",
      "\u001b[1m413/413\u001b[0m \u001b[32m━━━━━━━━━━━━━━━━━━━━\u001b[0m\u001b[37m\u001b[0m \u001b[1m0s\u001b[0m 434us/step - loss: 0.2577 - mae: 0.3517 - val_loss: 0.3058 - val_mae: 0.3813\n",
      "Epoch 24/30\n",
      "\u001b[1m413/413\u001b[0m \u001b[32m━━━━━━━━━━━━━━━━━━━━\u001b[0m\u001b[37m\u001b[0m \u001b[1m0s\u001b[0m 434us/step - loss: 0.2686 - mae: 0.3538 - val_loss: 0.3142 - val_mae: 0.3932\n",
      "Epoch 25/30\n",
      "\u001b[1m413/413\u001b[0m \u001b[32m━━━━━━━━━━━━━━━━━━━━\u001b[0m\u001b[37m\u001b[0m \u001b[1m0s\u001b[0m 436us/step - loss: 0.2775 - mae: 0.3640 - val_loss: 0.2996 - val_mae: 0.3757\n",
      "Epoch 26/30\n",
      "\u001b[1m413/413\u001b[0m \u001b[32m━━━━━━━━━━━━━━━━━━━━\u001b[0m\u001b[37m\u001b[0m \u001b[1m0s\u001b[0m 433us/step - loss: 0.2622 - mae: 0.3542 - val_loss: 0.3146 - val_mae: 0.3914\n",
      "Epoch 27/30\n",
      "\u001b[1m413/413\u001b[0m \u001b[32m━━━━━━━━━━━━━━━━━━━━\u001b[0m\u001b[37m\u001b[0m \u001b[1m0s\u001b[0m 440us/step - loss: 0.2628 - mae: 0.3545 - val_loss: 0.3058 - val_mae: 0.3741\n",
      "Epoch 28/30\n",
      "\u001b[1m413/413\u001b[0m \u001b[32m━━━━━━━━━━━━━━━━━━━━\u001b[0m\u001b[37m\u001b[0m \u001b[1m0s\u001b[0m 437us/step - loss: 0.2655 - mae: 0.3540 - val_loss: 0.2956 - val_mae: 0.3643\n",
      "Epoch 29/30\n",
      "\u001b[1m413/413\u001b[0m \u001b[32m━━━━━━━━━━━━━━━━━━━━\u001b[0m\u001b[37m\u001b[0m \u001b[1m0s\u001b[0m 431us/step - loss: 0.2691 - mae: 0.3536 - val_loss: 0.3049 - val_mae: 0.3863\n",
      "Epoch 30/30\n",
      "\u001b[1m413/413\u001b[0m \u001b[32m━━━━━━━━━━━━━━━━━━━━\u001b[0m\u001b[37m\u001b[0m \u001b[1m0s\u001b[0m 428us/step - loss: 0.2572 - mae: 0.3468 - val_loss: 0.2977 - val_mae: 0.3683\n"
     ]
    }
   ],
   "source": [
    "history = model.fit(\n",
    "    X_train, Y_train,\n",
    "    validation_split=0.2,\n",
    "    epochs=30,\n",
    "    batch_size=32,\n",
    "    verbose=1\n",
    ")"
   ]
  },
  {
   "cell_type": "code",
   "execution_count": 18,
   "id": "19f38194-28ef-410e-8698-359636b8b6e3",
   "metadata": {},
   "outputs": [
    {
     "name": "stdout",
     "output_type": "stream",
     "text": [
      "\u001b[1m129/129\u001b[0m \u001b[32m━━━━━━━━━━━━━━━━━━━━\u001b[0m\u001b[37m\u001b[0m \u001b[1m0s\u001b[0m 395us/step - loss: 0.2748 - mae: 0.3568\n",
      "Test MAE: 0.3608\n"
     ]
    }
   ],
   "source": [
    "loss, mae = model.evaluate(X_test, Y_test)\n",
    "print(f\"Test MAE: {mae:.4f}\")"
   ]
  },
  {
   "cell_type": "code",
   "execution_count": 20,
   "id": "b9b15e39-a4b8-4a29-ba71-56254683ef16",
   "metadata": {},
   "outputs": [
    {
     "name": "stdout",
     "output_type": "stream",
     "text": [
      "\u001b[1m1/1\u001b[0m \u001b[32m━━━━━━━━━━━━━━━━━━━━\u001b[0m\u001b[37m\u001b[0m \u001b[1m0s\u001b[0m 32ms/step\n",
      "예측값: 0.489 / 실제값: 0.477\n",
      "예측값: 0.993 / 실제값: 0.458\n",
      "예측값: 4.602 / 실제값: 5.000\n",
      "예측값: 2.574 / 실제값: 2.186\n",
      "예측값: 3.100 / 실제값: 2.780\n"
     ]
    }
   ],
   "source": [
    "preds = model.predict(X_test[:5]).flatten()\n",
    "for i in range(5):\n",
    "    print(f\"예측값: {preds[i]:.3f} / 실제값: {Y_test[i]:.3f}\")"
   ]
  },
  {
   "cell_type": "code",
   "execution_count": null,
   "id": "14aead91-4e82-44f5-9b9d-c03333a8b81e",
   "metadata": {},
   "outputs": [],
   "source": []
  }
 ],
 "metadata": {
  "kernelspec": {
   "display_name": "Python 3 (ipykernel)",
   "language": "python",
   "name": "python3"
  },
  "language_info": {
   "codemirror_mode": {
    "name": "ipython",
    "version": 3
   },
   "file_extension": ".py",
   "mimetype": "text/x-python",
   "name": "python",
   "nbconvert_exporter": "python",
   "pygments_lexer": "ipython3",
   "version": "3.10.18"
  }
 },
 "nbformat": 4,
 "nbformat_minor": 5
}
